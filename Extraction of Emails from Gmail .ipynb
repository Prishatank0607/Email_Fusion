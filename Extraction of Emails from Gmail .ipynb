{
 "cells": [
  {
   "cell_type": "code",
   "execution_count": null,
   "id": "cc07726e",
   "metadata": {},
   "outputs": [],
   "source": [
    "import mailbox\n",
    "\n",
    "mbox_file = 'All mail Including Spam and Trash.mbox'\n",
    "mbox = mailbox.mbox(mbox_file)\n",
    "\n",
    "emails = []\n",
    "for message in mbox:\n",
    "    emails.append({\n",
    "        'From': message['From'],\n",
    "        'To': message['To'],\n",
    "        'Subject': message['Subject'],\n",
    "        'Date': message['Date'],\n",
    "        'Body': message.get_payload()\n",
    "    })\n"
   ]
  },
  {
   "cell_type": "code",
   "execution_count": null,
   "id": "f35be73c",
   "metadata": {},
   "outputs": [],
   "source": [
    "import pandas as pd\n",
    "\n",
    "df = pd.DataFrame(emails)\n"
   ]
  },
  {
   "cell_type": "code",
   "execution_count": null,
   "id": "bfe44551",
   "metadata": {},
   "outputs": [],
   "source": [
    "excel_file = 'emails.xlsx'\n",
    "df.to_excel(excel_file, index=False)\n"
   ]
  },
  {
   "cell_type": "code",
   "execution_count": null,
   "id": "ed185df2",
   "metadata": {},
   "outputs": [],
   "source": [
    "import pandas as pd\n",
    "import mailbox\n",
    "\n",
    "# Path to mbox file\n",
    "mbox_file = '.mbox'\n",
    "\n",
    "# Extract emails from mbox file\n",
    "emails = []\n",
    "try:\n",
    "    mbox = mailbox.mbox(mbox_file)\n",
    "    for message in mbox:\n",
    "        emails.append({\n",
    "            'From': message['From'],\n",
    "            'To': message['To'],\n",
    "            'Subject': message['Subject'],\n",
    "            'Date': message['Date'],\n",
    "            'Body': message.get_payload()\n",
    "        })\n",
    "except Exception as e:\n",
    "    print(\"Error occurred while extracting emails:\", e)\n",
    "\n",
    "# Convert data to DataFrame\n",
    "df = pd.DataFrame(emails)\n",
    "\n",
    "# Print DataFrame (for debugging)\n",
    "print(df)\n",
    "\n",
    "# Write DataFrame to Excel file\n",
    "excel_file = 'emails.xlsx'\n",
    "try:\n",
    "    df.to_excel(excel_file, index=False)\n",
    "    print(\"Excel file successfully created:\", excel_file)\n",
    "except Exception as e:\n",
    "    print(\"Error occurred while writing to Excel file:\", e)\n"
   ]
  }
 ],
 "metadata": {
  "kernelspec": {
   "display_name": "Python 3 (ipykernel)",
   "language": "python",
   "name": "python3"
  },
  "language_info": {
   "codemirror_mode": {
    "name": "ipython",
    "version": 3
   },
   "file_extension": ".py",
   "mimetype": "text/x-python",
   "name": "python",
   "nbconvert_exporter": "python",
   "pygments_lexer": "ipython3",
   "version": "3.11.5"
  }
 },
 "nbformat": 4,
 "nbformat_minor": 5
}
